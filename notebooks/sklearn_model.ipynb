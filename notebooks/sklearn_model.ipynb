{
 "cells": [
  {
   "cell_type": "code",
   "execution_count": 7,
   "id": "0c02db9d",
   "metadata": {},
   "outputs": [
    {
     "name": "stdout",
     "output_type": "stream",
     "text": [
      "샘플 개수: 213\n",
      "레이블 클래스: ['autumnwarm' 'springwarm' 'summercool' 'wintercool']\n",
      "정확도: 0.37209302325581395\n",
      "              precision    recall  f1-score   support\n",
      "\n",
      "  autumnwarm       0.22      0.29      0.25         7\n",
      "  springwarm       0.33      0.31      0.32        13\n",
      "  summercool       0.46      0.75      0.57         8\n",
      "  wintercool       0.44      0.27      0.33        15\n",
      "\n",
      "    accuracy                           0.37        43\n",
      "   macro avg       0.37      0.40      0.37        43\n",
      "weighted avg       0.38      0.37      0.36        43\n",
      "\n"
     ]
    },
    {
     "data": {
      "text/plain": [
       "['label_encoder.pkl']"
      ]
     },
     "execution_count": 7,
     "metadata": {},
     "output_type": "execute_result"
    }
   ],
   "source": [
    "import os\n",
    "import cv2\n",
    "import numpy as np\n",
    "from sklearn.ensemble import RandomForestClassifier\n",
    "from sklearn.model_selection import train_test_split\n",
    "from sklearn.preprocessing import LabelEncoder\n",
    "from sklearn.metrics import accuracy_score, classification_report\n",
    "import joblib\n",
    "\n",
    "dataset_path = r\"C:\\Users\\lsj24\\OneDrive\\Desktop\\pc_diagnose/image\"\n",
    "categories = ['autumnwarm', 'springwarm', 'summercool', 'wintercool']\n",
    "\n",
    "def extract_feature(img_path):\n",
    "    try:\n",
    "        img = cv2.imread(img_path)\n",
    "        img = cv2.resize(img, (100, 100))\n",
    "        img_lab = cv2.cvtColor(img, cv2.COLOR_BGR2LAB)\n",
    "        b_avg = np.mean(img_lab[:, :, 2])  # LAB의 B 채널 평균\n",
    "        return [b_avg]\n",
    "    except:\n",
    "        return None\n",
    "\n",
    "X = []\n",
    "y = []\n",
    "\n",
    "for label in categories:\n",
    "    folder = os.path.join(dataset_path, label)\n",
    "    if not os.path.exists(folder):\n",
    "        print(f\"{folder} 경로가 존재하지 않습니다.\")\n",
    "        continue\n",
    "    for file in os.listdir(folder):\n",
    "        img_path = os.path.join(folder, file)\n",
    "        feature = extract_feature(img_path)\n",
    "        if feature:\n",
    "            X.append(feature)\n",
    "            y.append(label)\n",
    "\n",
    "print(\"샘플 개수:\", len(X))\n",
    "\n",
    "le = LabelEncoder()\n",
    "y_encoded = le.fit_transform(y)\n",
    "\n",
    "print(\"레이블 클래스:\", le.classes_)\n",
    "\n",
    "X_train, X_test, y_train, y_test = train_test_split(X, y_encoded, test_size=0.2, random_state=42)\n",
    "\n",
    "model = RandomForestClassifier()\n",
    "model.fit(X_train, y_train)\n",
    "\n",
    "y_pred = model.predict(X_test)\n",
    "print(\"정확도:\", accuracy_score(y_test, y_pred))\n",
    "print(classification_report(y_test, y_pred, target_names=le.classes_))\n",
    "\n",
    "# 모델 저장\n",
    "joblib.dump(model, 'sklearn_personal_color_model.pkl')\n",
    "joblib.dump(le, 'label_encoder.pkl')\n"
   ]
  },
  {
   "cell_type": "code",
   "execution_count": 9,
   "id": "21943cfe",
   "metadata": {},
   "outputs": [
    {
     "name": "stdout",
     "output_type": "stream",
     "text": [
      "예측된 퍼스널 컬러: autumnwarm\n"
     ]
    }
   ],
   "source": [
    "import joblib\n",
    "import cv2\n",
    "import numpy as np\n",
    "\n",
    "# 저장한 모델과 라벨 인코더 불러오기\n",
    "model = joblib.load('sklearn_personal_color_model.pkl')\n",
    "le = joblib.load('label_encoder.pkl')\n",
    "\n",
    "def extract_feature(img_path):\n",
    "    img = cv2.imread(img_path)\n",
    "    img = cv2.resize(img, (100, 100))\n",
    "    img_lab = cv2.cvtColor(img, cv2.COLOR_BGR2LAB)\n",
    "    b_avg = np.mean(img_lab[:, :, 2])\n",
    "    return [b_avg]\n",
    "\n",
    "# 예측할 이미지 경로 설정\n",
    "test_image_path = r'C:\\Users\\lsj24\\OneDrive\\Desktop\\pc_diagnose\\test_image.jpg'  # 예시\n",
    "\n",
    "feature = extract_feature(test_image_path)\n",
    "predicted_label_num = model.predict([feature])[0]\n",
    "predicted_label = le.inverse_transform([predicted_label_num])[0]\n",
    "\n",
    "print(f\"예측된 퍼스널 컬러: {predicted_label}\")\n"
   ]
  },
  {
   "cell_type": "code",
   "execution_count": 12,
   "id": "5130f4b9",
   "metadata": {},
   "outputs": [
    {
     "name": "stdout",
     "output_type": "stream",
     "text": [
      "총 테스트 이미지 개수: 17\n",
      "레이블 클래스: {'autumnwarm', 'summercool', 'wintercool', 'springwarm'}\n"
     ]
    }
   ],
   "source": [
    "from PIL import Image\n",
    "import numpy as np\n",
    "import os\n",
    "import cv2\n",
    "\n",
    "dataset_test_path = r\"C:\\Users\\lsj24\\OneDrive\\Desktop\\pc_diagnose\\test_dataset\"\n",
    "categories = ['autumnwarm', 'springwarm', 'summercool', 'wintercool']\n",
    "img_size = 100\n",
    "valid_extensions = ('.jpg', '.jpeg', '.png', '.bmp')\n",
    "\n",
    "X_test = []\n",
    "y_test = []\n",
    "\n",
    "for label in categories:\n",
    "    folder = os.path.join(dataset_test_path, label)\n",
    "    if not os.path.exists(folder):\n",
    "        print(f\"{folder} 경로가 존재하지 않습니다.\")\n",
    "        continue\n",
    "    for file in os.listdir(folder):\n",
    "        if not file.lower().endswith(valid_extensions):\n",
    "            continue\n",
    "        img_path = os.path.join(folder, file)\n",
    "        try:\n",
    "            img_pil = Image.open(img_path).convert('RGB')\n",
    "        except Exception as e:\n",
    "            print(f\"이미지 로드 실패(PIL): {img_path} / 에러: {e}\")\n",
    "            continue\n",
    "        img = np.array(img_pil)\n",
    "        img = cv2.resize(img, (img_size, img_size))\n",
    "        img_lab = cv2.cvtColor(img, cv2.COLOR_RGB2LAB)\n",
    "        b_avg = img_lab[:, :, 2].mean()\n",
    "        X_test.append([b_avg])\n",
    "        y_test.append(label)\n",
    "\n",
    "print(f\"총 테스트 이미지 개수: {len(X_test)}\")\n",
    "print(f\"레이블 클래스: {set(y_test)}\")\n"
   ]
  },
  {
   "cell_type": "code",
   "execution_count": 13,
   "id": "561190a8",
   "metadata": {},
   "outputs": [
    {
     "name": "stdout",
     "output_type": "stream",
     "text": [
      "테스트 데이터 정확도: 0.7647\n",
      "\n",
      "분류 리포트:\n",
      "              precision    recall  f1-score   support\n",
      "\n",
      "  autumnwarm       0.67      0.50      0.57         4\n",
      "  springwarm       1.00      0.75      0.86         4\n",
      "  summercool       0.67      0.80      0.73         5\n",
      "  wintercool       0.80      1.00      0.89         4\n",
      "\n",
      "    accuracy                           0.76        17\n",
      "   macro avg       0.78      0.76      0.76        17\n",
      "weighted avg       0.78      0.76      0.76        17\n",
      "\n"
     ]
    }
   ],
   "source": [
    "import joblib\n",
    "from sklearn.preprocessing import LabelEncoder\n",
    "from sklearn.metrics import accuracy_score, classification_report\n",
    "\n",
    "# 저장된 모델과 라벨 인코더 불러오기\n",
    "model = joblib.load('sklearn_personal_color_model.pkl')\n",
    "le = joblib.load('label_encoder.pkl')\n",
    "\n",
    "# 테스트용 feature와 라벨\n",
    "# 위에서 만든 X_test, y_test 사용 (y_test는 라벨 문자열 리스트)\n",
    "\n",
    "# 라벨 문자열을 숫자 라벨로 변환\n",
    "y_test_encoded = le.transform(y_test)\n",
    "\n",
    "# 모델 예측\n",
    "y_pred = model.predict(X_test)\n",
    "\n",
    "# 정확도와 리포트 출력\n",
    "accuracy = accuracy_score(y_test_encoded, y_pred)\n",
    "print(f\"테스트 데이터 정확도: {accuracy:.4f}\")\n",
    "\n",
    "print(\"\\n분류 리포트:\")\n",
    "print(classification_report(y_test_encoded, y_pred, target_names=le.classes_))\n"
   ]
  },
  {
   "cell_type": "code",
   "execution_count": null,
   "id": "03d30a87",
   "metadata": {},
   "outputs": [],
   "source": []
  }
 ],
 "metadata": {
  "kernelspec": {
   "display_name": "Python 3",
   "language": "python",
   "name": "python3"
  },
  "language_info": {
   "codemirror_mode": {
    "name": "ipython",
    "version": 3
   },
   "file_extension": ".py",
   "mimetype": "text/x-python",
   "name": "python",
   "nbconvert_exporter": "python",
   "pygments_lexer": "ipython3",
   "version": "3.10.0"
  }
 },
 "nbformat": 4,
 "nbformat_minor": 5
}
